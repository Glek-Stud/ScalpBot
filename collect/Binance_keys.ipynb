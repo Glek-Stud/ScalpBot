{
 "cells": [
  {
   "cell_type": "code",
   "execution_count": null,
   "id": "initial_id",
   "metadata": {
    "collapsed": true
   },
   "outputs": [],
   "source": [
    "api_key = 'xOKEGAqEmdoYA2OIHmmRdotNby0a5VFSB6ptcCRQeXT9zhI7j9IM14ieAwzWriWM'\n",
    "api_secret = 'JKsd3Zx0baQhousugIuCQ1MhWoX1nTUA6M1uoWZC2QvCEvI4kyBp531KygYz2Sl5'"
   ]
  }
 ],
 "metadata": {
  "kernelspec": {
   "display_name": "Python 3",
   "language": "python",
   "name": "python3"
  },
  "language_info": {
   "codemirror_mode": {
    "name": "ipython",
    "version": 2
   },
   "file_extension": ".py",
   "mimetype": "text/x-python",
   "name": "python",
   "nbconvert_exporter": "python",
   "pygments_lexer": "ipython2",
   "version": "2.7.6"
  }
 },
 "nbformat": 4,
 "nbformat_minor": 5
}
