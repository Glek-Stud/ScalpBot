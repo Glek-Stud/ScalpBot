{
 "cells": [
  {
   "cell_type": "code",
   "execution_count": null,
   "id": "initial_id",
   "metadata": {
    "collapsed": true
   },
   "outputs": [],
   "source": [
    ""
   ]
  },
  {
   "metadata": {},
   "cell_type": "markdown",
   "source": [
    "# BTC-USDT Minute-Bars — **Collection & Feature-Matrix Summary**\n",
    "\n",
    "_This document captures everything produced inside the `Collect/` directory so the next phases (Gym environment, DQN, back-test) can plug-in with zero guesswork._\n",
    "\n",
    "---\n",
    "\n",
    "## 1. Pipeline steps & artefacts\n",
    "\n",
    "| Phase | Notebook / Script | Key Actions | Output |\n",
    "|-------|-------------------|-------------|--------|\n",
    "| **Raw download** | `Download.ipynb` | • Binance REST ⟶ 12 mo of 1-minute OHLCV (525 601 rows).<br>• Retry + `checkpoint.json` for resume.<br>• Saved “fat” Parquet with full columns. | `data_final/btcusdt_1m_20240511-20250511.parquet` |\n",
    "| **Indicators** | `Indicators.ipynb` | • EMA (8, 21), RSI 14, Stochastic %K/%D (14,3,3), daily VWAP & deviation, 1-min log-return.<br>• Winsorise Volume & LogRet on 1-week rolling 3 σ.<br>• Drop initial NaNs. | `data_final/btc1m_features.parquet` |\n",
    "| **Feature matrix (6 cols)** | `Indicators.ipynb` | Select ΔEMA, RSI14, StochK, StochD, VWAP\\_dev, log\\_return. | `data_final/btc1m_features_matrix.parquet` |\n",
    "| **Normalisation** | `Indicators.ipynb` | a) Z-score (train µ/σ).<br>b) EWMA α = 0.001 (online).<br>• Store µ/σ & split indices. | `btc1m_features_zscore.parquet`, `btc1m_features_ewma.parquet`, `norm_stats.json` |\n",
    "| **Low-volume flag** | `Indicators.ipynb` | • 5-percentile of Volume on **train** slice.<br>• `LowVolFlag = Volume < p5`.<br>• No rows dropped. | `btc1m_features_with_lowvol.parquet` |\n",
    "| **Loader helper** | any | One function merges Z-score + LowVolFlag on demand. | `utils/data_loader.py` |\n",
    "\n",
    "---\n",
    "\n",
    "\n"
   ],
   "id": "20b4ee3e2d2b117b"
  },
  {
   "metadata": {},
   "cell_type": "markdown",
   "source": [
    "## 2. Folder structure\n",
    "\n",
    "<img src=\"Screenshot.png\" alt=\"Folder structure\" width=\"500\"/>\n"
   ],
   "id": "1b7cc6dc4d1974b6"
  },
  {
   "metadata": {},
   "cell_type": "markdown",
   "source": [
    "\n",
    "---\n",
    "\n",
    "## 3. Result files — schema & how to use\n",
    "\n",
    "| File | Columns (dtypes) | Purpose | Typical Loader Call |\n",
    "|------|------------------|---------|---------------------|\n",
    "| **`btc1m_features_matrix.parquet`** | `ΔEMA, RSI_14, Stoch_%K, Stoch_%D, VWAP_Dev, LogRet_1m` — `float64` | raw numeric features | `pd.read_parquet(..., columns=[...])` |\n",
    "| **`btc1m_features_zscore.parquet`** | same 6 cols, already Z-scored with μ/σ from train slice | fastest prototyping; no extra scaling | `pd.read_parquet(... )` |\n",
    "| **`btc1m_features_ewma.parquet`** | same 6 cols, EWMA-scaled (α = 0.001) | research on regime-shift robustness | — |\n",
    "| **`btc1m_features_with_lowvol.parquet`** | 6 raw features **+ LowVolFlag** (`int8`) | hybrid approach; feed flag to agent | — |\n",
    "| **`norm_stats.json`** | `{mean:{}, std:{}, split:{train_end,val_end,rows}}` | reproducible µ/σ & split boundaries | `json.load(...)` |\n",
    "\n",
    "### Quick loader (already saved as `utils/data_loader.py`)\n",
    "\n",
    "```python\n",
    "from utils.data_loader import load_features\n",
    "X, split = load_features(zscore=True, add_lowvol=True)   # 7-col matrix\n",
    "train = slice(None, split['train_end'])\n",
    "val   = slice(split['train_end'], split['val_end'])\n",
    "test  = slice(split['val_end'], None)\n"
   ],
   "id": "fff43b247b016d59"
  },
  {
   "metadata": {},
   "cell_type": "markdown",
   "source": [
    "| Indicator  | Formula                                                                                                                 |\n",
    "| ---------- | ----------------------------------------------------------------------------------------------------------------------- |\n",
    "| ΔEMA       | $\\text{EMA}_8 - \\text{EMA}_{21}$                                                                                        |\n",
    "| RSI 14     | $\\displaystyle 100 - \\frac{100}{1 + \\frac{\\mathrm{EMA}_{14}(\\text{gains})}{\\mathrm{EMA}_{14}(\\text{losses})}}$          |\n",
    "| Stoch %K   | $100 \\times \\frac{C_t - L_{14}}{H_{14} - L_{14}}$                                                                       |\n",
    "| Stoch %D   | 3-period SMA of %K, then another 3-period SMA (slow variant)                                                            |\n",
    "| VWAP dev   | $\\text{Close}_t - \\frac{\\sum_{i\\le t}(P_i V_i)}{\\sum_{i\\le t} V_i}$ (reset daily)                                       |\n",
    "| Log-return | $\\ln \\frac{C_t}{C_{t-1}}$                                                                                               |\n",
    "| Z-score    | $x' = (x - \\mu_{\\text{train}}) / \\sigma_{\\text{train}}$                                                                 |\n",
    "| EWMA µ/σ   | $\\mu_t = \\alpha x_{t-1} + (1-\\alpha)\\mu_{t-1}$,  $\\sigma^2_t = \\alpha (x_{t-1}-\\mu_{t-1})^2 + (1-\\alpha)\\sigma^2_{t-1}$ |\n",
    "| LowVolFlag | `1` if `Volume` < 5-perc (train), else `0`                                                                              |\n"
   ],
   "id": "d2411ab7f301b658"
  },
  {
   "metadata": {},
   "cell_type": "markdown",
   "source": "",
   "id": "6d122efd29bae4d4"
  }
 ],
 "metadata": {
  "kernelspec": {
   "display_name": "Python 3",
   "language": "python",
   "name": "python3"
  },
  "language_info": {
   "codemirror_mode": {
    "name": "ipython",
    "version": 2
   },
   "file_extension": ".py",
   "mimetype": "text/x-python",
   "name": "python",
   "nbconvert_exporter": "python",
   "pygments_lexer": "ipython2",
   "version": "2.7.6"
  }
 },
 "nbformat": 4,
 "nbformat_minor": 5
}
