{
 "cells": [
  {
   "metadata": {
    "ExecuteTime": {
     "end_time": "2025-05-18T14:46:01.326630Z",
     "start_time": "2025-05-18T14:46:01.321578Z"
    }
   },
   "cell_type": "code",
   "source": [
    "import pandas as pd\n",
    "from datetime import datetime, timezone\n",
    "import json, os, time\n",
    "import numpy as np\n",
    "from binance.client import Client\n",
    "from binance.exceptions import BinanceAPIException, BinanceRequestException"
   ],
   "id": "b9ccce1e2a39e65a",
   "outputs": [],
   "execution_count": 8
  },
  {
   "metadata": {
    "ExecuteTime": {
     "end_time": "2025-05-18T14:46:01.356488Z",
     "start_time": "2025-05-18T14:46:01.353986Z"
    }
   },
   "cell_type": "code",
   "source": [
    "# Data calculus\n",
    "from datetime import datetime, timedelta, timezone\n",
    "from dateutil.relativedelta import relativedelta\n",
    "import math"
   ],
   "id": "f6886cd79ccc006f",
   "outputs": [],
   "execution_count": 9
  },
  {
   "metadata": {
    "ExecuteTime": {
     "end_time": "2025-05-18T14:46:01.369389Z",
     "start_time": "2025-05-18T14:46:01.366935Z"
    }
   },
   "cell_type": "code",
   "source": [
    "# Data downloading chanks to ram\n",
    "import json, time, pathlib\n",
    "from typing import List"
   ],
   "id": "c6e1972c5973052c",
   "outputs": [],
   "execution_count": 10
  },
  {
   "metadata": {
    "ExecuteTime": {
     "end_time": "2025-05-18T14:46:01.379748Z",
     "start_time": "2025-05-18T14:46:01.377773Z"
    }
   },
   "cell_type": "code",
   "source": [
    "# Downloading chanks to file\n",
    "import pathlib, pandas as pd, sys"
   ],
   "id": "22e91d233f2afb8d",
   "outputs": [],
   "execution_count": 11
  },
  {
   "metadata": {
    "ExecuteTime": {
     "end_time": "2025-05-18T14:46:01.389751Z",
     "start_time": "2025-05-18T14:46:01.386252Z"
    }
   },
   "cell_type": "code",
   "source": "%run ./Binance_keys.ipynb",
   "id": "3eee2c1596066e63",
   "outputs": [],
   "execution_count": 12
  },
  {
   "metadata": {
    "ExecuteTime": {
     "end_time": "2025-05-18T14:46:01.699706Z",
     "start_time": "2025-05-18T14:46:01.396138Z"
    }
   },
   "cell_type": "code",
   "source": [
    "client = Client(\n",
    "    api_key=api_key,\n",
    "    api_secret=api_secret,\n",
    "    tld='com',\n",
    "    testnet=False,\n",
    ")\n",
    "client.API_URL = client.API_URL.replace(\"api.\", \"api.\")"
   ],
   "id": "c3b4ed07130283c",
   "outputs": [],
   "execution_count": 13
  },
  {
   "metadata": {
    "ExecuteTime": {
     "end_time": "2025-05-18T14:46:01.710175Z",
     "start_time": "2025-05-18T14:46:01.706873Z"
    }
   },
   "cell_type": "code",
   "source": [
    "def test_binance_connection(binance_client: Client) -> None:\n",
    "    try:\n",
    "        latency = binance_client.ping()\n",
    "        acc_info = binance_client.get_account()\n",
    "        print(\"✓ Ping OK, server reachable.\")\n",
    "        print(f\"✓ Account type: {acc_info['accountType']}, \"\n",
    "              f\"makerCommission: {acc_info['makerCommission']}\")\n",
    "    except (BinanceAPIException, BinanceRequestException) as e:\n",
    "        print(\"Binance connection failed:\", e)\n",
    "        raise"
   ],
   "id": "d46f788027d6f777",
   "outputs": [],
   "execution_count": 14
  },
  {
   "metadata": {
    "ExecuteTime": {
     "end_time": "2025-05-18T14:46:02.240259Z",
     "start_time": "2025-05-18T14:46:01.716628Z"
    }
   },
   "cell_type": "code",
   "source": "test_binance_connection(client)",
   "id": "91f2e1e56672e259",
   "outputs": [
    {
     "name": "stdout",
     "output_type": "stream",
     "text": [
      "✓ Ping OK, server reachable.\n",
      "✓ Account type: SPOT, makerCommission: 10\n"
     ]
    }
   ],
   "execution_count": 15
  },
  {
   "metadata": {
    "ExecuteTime": {
     "end_time": "2025-05-18T14:46:02.253233Z",
     "start_time": "2025-05-18T14:46:02.247955Z"
    }
   },
   "cell_type": "code",
   "source": [
    "def generate_minute_windows(months: int = 12,\n",
    "                            interval_minutes: int = 1,\n",
    "                            limit: int = 1000):\n",
    "\n",
    "    end_dt   = datetime.now(timezone.utc).replace(second=0, microsecond=0)\n",
    "    start_dt = end_dt - relativedelta(months=months)\n",
    "\n",
    "    total_minutes = int((end_dt - start_dt).total_seconds() / 60)\n",
    "    step          = limit * interval_minutes                 # 1000\n",
    "    n_windows     = math.ceil(total_minutes / step)\n",
    "\n",
    "    windows_dt = []\n",
    "    cur_start  = start_dt\n",
    "    for _ in range(n_windows):\n",
    "        cur_end = min(cur_start + timedelta(minutes=step-1), end_dt)\n",
    "        windows_dt.append((cur_start, cur_end))\n",
    "        cur_start = cur_end + timedelta(minutes=1)\n",
    "\n",
    "    to_ms = lambda dt: int(dt.timestamp() * 1000)\n",
    "    windows_ms = [(to_ms(s), to_ms(e)) for s, e in windows_dt]\n",
    "\n",
    "    print(f\"Generated {len(windows_dt)} windows \"\n",
    "          f\"({total_minutes} min total, {step}‑min chunks).\")\n",
    "    print(\"First w:\", windows_dt[0])\n",
    "    print(\"Last  w :\", windows_dt[-1])\n",
    "    return windows_dt, windows_ms\n",
    "\n",
    "windows_dt, windows_ms = generate_minute_windows()\n"
   ],
   "id": "bf11a8cdbb7b0d23",
   "outputs": [
    {
     "name": "stdout",
     "output_type": "stream",
     "text": [
      "Generated 526 windows (525600 min total, 1000‑min chunks).\n",
      "First w: (datetime.datetime(2024, 5, 18, 14, 46, tzinfo=datetime.timezone.utc), datetime.datetime(2024, 5, 19, 7, 25, tzinfo=datetime.timezone.utc))\n",
      "Last  w : (datetime.datetime(2025, 5, 18, 4, 46, tzinfo=datetime.timezone.utc), datetime.datetime(2025, 5, 18, 14, 46, tzinfo=datetime.timezone.utc))\n"
     ]
    }
   ],
   "execution_count": 16
  },
  {
   "metadata": {
    "ExecuteTime": {
     "end_time": "2025-05-18T14:46:02.279413Z",
     "start_time": "2025-05-18T14:46:02.277395Z"
    }
   },
   "cell_type": "code",
   "source": [
    "CHECKPOINT_PATH = pathlib.Path(\"data_final/checkpoint.json\")\n",
    "SYMBOL          = \"BTCUSDT\"\n",
    "INTERVAL        = Client.KLINE_INTERVAL_1MINUTE\n",
    "MAX_RETRIES     = 5          # за окно\n",
    "SLEEP_BETWEEN   = 0.06       # 16req/сек"
   ],
   "id": "c33bb9aa20a81ad",
   "outputs": [],
   "execution_count": 17
  },
  {
   "metadata": {
    "ExecuteTime": {
     "end_time": "2025-05-18T14:46:02.289937Z",
     "start_time": "2025-05-18T14:46:02.286920Z"
    }
   },
   "cell_type": "code",
   "source": [
    "def load_checkpoint() -> int:\n",
    "    if CHECKPOINT_PATH.exists():\n",
    "        with open(CHECKPOINT_PATH) as f:\n",
    "            data = json.load(f)\n",
    "            return data.get(\"last_idx\", -1)\n",
    "    return -1"
   ],
   "id": "a71fa0dd6dfcc552",
   "outputs": [],
   "execution_count": 18
  },
  {
   "metadata": {
    "ExecuteTime": {
     "end_time": "2025-05-18T14:46:02.300196Z",
     "start_time": "2025-05-18T14:46:02.297194Z"
    }
   },
   "cell_type": "code",
   "source": [
    "def save_checkpoint(idx: int) -> None:\n",
    "    with open(CHECKPOINT_PATH, \"w\") as f:\n",
    "        json.dump({\"last_idx\": idx}, f)"
   ],
   "id": "149a296d1d50bb30",
   "outputs": [],
   "execution_count": 19
  },
  {
   "metadata": {
    "ExecuteTime": {
     "end_time": "2025-05-18T14:46:02.309512Z",
     "start_time": "2025-05-18T14:46:02.306302Z"
    }
   },
   "cell_type": "code",
   "source": [
    "def fetch_window(symbol: str, start_ms: int, end_ms: int,\n",
    "                 client: Client, max_retries: int = MAX_RETRIES):\n",
    "    attempt = 0\n",
    "    while attempt <= max_retries:\n",
    "        try:\n",
    "            raw = client.get_historical_klines(\n",
    "                symbol=symbol,\n",
    "                interval=INTERVAL,\n",
    "                start_str=start_ms,\n",
    "                end_str=end_ms,\n",
    "                limit=1000,\n",
    "            )\n",
    "            return raw\n",
    "        except Exception as e:\n",
    "            wait = 0.5 * (2 ** attempt)\n",
    "            print(f\"[{symbol}] Window fetch fail (attempt {attempt}): {e}. \"\n",
    "                  f\"Retry in {wait:.1f}s …\")\n",
    "            time.sleep(wait)\n",
    "            attempt += 1\n",
    "    raise RuntimeError(f\"Exceeded {max_retries} retries for window\")"
   ],
   "id": "2b2f901c089bf754",
   "outputs": [],
   "execution_count": 20
  },
  {
   "metadata": {
    "ExecuteTime": {
     "end_time": "2025-05-18T14:46:02.320022Z",
     "start_time": "2025-05-18T14:46:02.316018Z"
    }
   },
   "cell_type": "code",
   "source": [
    "def convert_to_dataframe(raw_data: List[list]) -> pd.DataFrame:\n",
    "    cols = ['Open Time', 'Open', 'High', 'Low', 'Close', 'Volume',\n",
    "            'Close Time', 'Quote Asset Volume', 'Trades',\n",
    "            'Taker Buy Base', 'Taker Buy Quote', 'Ignore']\n",
    "\n",
    "    df = pd.DataFrame(raw_data, columns=cols)\n",
    "    df = df[['Open Time', 'Open', 'High', 'Low', 'Close', 'Volume']]\n",
    "    df['Open Time'] = pd.to_datetime(df['Open Time'], unit='ms', utc=True)\n",
    "    df = df.astype({'Open':'float', 'High':'float', 'Low':'float',\n",
    "                    'Close':'float', 'Volume':'float'})\n",
    "    df.set_index('Open Time', inplace=True)\n",
    "    return df"
   ],
   "id": "42dee126deaf91a8",
   "outputs": [],
   "execution_count": 21
  },
  {
   "metadata": {
    "ExecuteTime": {
     "end_time": "2025-05-18T14:46:02.336685Z",
     "start_time": "2025-05-18T14:46:02.327062Z"
    }
   },
   "cell_type": "code",
   "source": [
    "last_done = load_checkpoint()\n",
    "print(f\"Checkpoint: last completed window idx = {last_done}\")\n",
    "\n",
    "chunks = []\n",
    "\n",
    "for idx, (start_ms, end_ms) in enumerate(windows_ms):\n",
    "    if idx <= last_done:\n",
    "        continue\n",
    "    time.sleep(SLEEP_BETWEEN)\n",
    "\n",
    "    raw = fetch_window(SYMBOL, start_ms, end_ms, client)\n",
    "    df_chunk = convert_to_dataframe(raw)\n",
    "    chunks.append(df_chunk)\n",
    "\n",
    "    save_checkpoint(idx)\n",
    "    print(f\"✓ Window {idx}/{len(windows_ms)-1} \"\n",
    "          f\"({len(df_chunk)} rows) downloaded.\")\n",
    "\n",
    "print(\"Download loop finished.\")"
   ],
   "id": "344c46994e777610",
   "outputs": [
    {
     "name": "stdout",
     "output_type": "stream",
     "text": [
      "Checkpoint: last completed window idx = 525\n",
      "Download loop finished.\n"
     ]
    }
   ],
   "execution_count": 22
  },
  {
   "metadata": {
    "ExecuteTime": {
     "end_time": "2025-05-18T14:46:02.351203Z",
     "start_time": "2025-05-18T14:46:02.347703Z"
    }
   },
   "cell_type": "code",
   "source": [
    "DATA_DIR = pathlib.Path(\"data_raw\")\n",
    "\n",
    "def load_all_chunks():\n",
    "    if \"chunks\" in globals() and isinstance(chunks, list) and len(chunks):\n",
    "        print(\"Usе in‑memory chunk\")\n",
    "        return chunks\n",
    "    files = sorted(DATA_DIR.glob(\"btc1m_win*.parquet\"))\n",
    "    if not files:\n",
    "        sys.exit(\"No chunks found\")\n",
    "    print(f\"Loading {len(files)} parquet chunks from {DATA_DIR}\")\n",
    "    return [pd.read_parquet(f) for f in files]"
   ],
   "id": "833a19b246c30789",
   "outputs": [],
   "execution_count": 23
  },
  {
   "metadata": {
    "ExecuteTime": {
     "end_time": "2025-05-18T15:03:08.443174Z",
     "start_time": "2025-05-18T15:03:08.430765Z"
    }
   },
   "cell_type": "code",
   "source": [
    "all_chunks = load_all_chunks()\n",
    "df = (pd.concat(all_chunks)\n",
    "        .loc[~pd.concat(all_chunks).index.duplicated(keep='first')]\n",
    "        .sort_index())\n",
    "\n",
    "full_idx = pd.date_range(df.index.min(), df.index.max(), freq=\"1min\", tz=\"UTC\")\n",
    "missing = full_idx.difference(df.index)\n",
    "\n",
    "mem_mb = df.memory_usage(deep=True).sum() / 1024**2\n",
    "\n",
    "print(\"Result: \")\n",
    "print(\"─────────────────────────\")\n",
    "print(f\"Rows            : {len(df):,}\")\n",
    "print(f\"Date range      : {df.index.min()} → {df.index.max()}\")\n",
    "print(f\"Missing minutes : {len(missing)}\")\n",
    "print(f\"Memory usage    : {mem_mb:.1f} MB\")\n",
    "print(\"─────────────────────────\")\n",
    "\n",
    "if len(missing):\n",
    "    print(\"First 5 missing:\", missing[:5].astype(str))\n"
   ],
   "id": "9010c687a802d3e",
   "outputs": [
    {
     "ename": "SystemExit",
     "evalue": "No chunks found",
     "output_type": "error",
     "traceback": [
      "An exception has occurred, use %tb to see the full traceback.\n",
      "\u001B[31mSystemExit\u001B[39m\u001B[31m:\u001B[39m No chunks found\n"
     ]
    }
   ],
   "execution_count": 26
  },
  {
   "metadata": {
    "ExecuteTime": {
     "end_time": "2025-05-18T15:03:10.953951Z",
     "start_time": "2025-05-18T15:03:10.743335Z"
    }
   },
   "cell_type": "code",
   "source": [
    "OUTPUT_DIR = pathlib.Path(\"data_final\")\n",
    "OUTPUT_DIR.mkdir(exist_ok=True)\n",
    "\n",
    "PARQUET_PATH = OUTPUT_DIR / \"btcusdt_1m_20240511‑20250511.parquet\"\n",
    "FEATHER_PATH = OUTPUT_DIR / \"btcusdt_1m_20240511‑20250511.feather\"\n",
    "\n",
    "df.to_parquet(PARQUET_PATH, engine=\"pyarrow\", compression=\"zstd\")\n",
    "print(f\"Parquet saved → {PARQUET_PATH}\")\n",
    "\n",
    "df.reset_index().to_feather(FEATHER_PATH)\n",
    "print(f\"Feather saved → {FEATHER_PATH}\")\n",
    "\n",
    "df_chk = pd.read_parquet(PARQUET_PATH)\n",
    "assert len(df_chk) == len(df), \"Row‑count mismatch\"\n",
    "print(\"OK, rows:\", len(df_chk))\n"
   ],
   "id": "42ed0543f34e96d6",
   "outputs": [
    {
     "ename": "NameError",
     "evalue": "name 'df' is not defined",
     "output_type": "error",
     "traceback": [
      "\u001B[31m---------------------------------------------------------------------------\u001B[39m",
      "\u001B[31mNameError\u001B[39m                                 Traceback (most recent call last)",
      "\u001B[36mCell\u001B[39m\u001B[36m \u001B[39m\u001B[32mIn[27]\u001B[39m\u001B[32m, line 7\u001B[39m\n\u001B[32m      4\u001B[39m PARQUET_PATH = OUTPUT_DIR / \u001B[33m\"\u001B[39m\u001B[33mbtcusdt_1m_20240511‑20250511.parquet\u001B[39m\u001B[33m\"\u001B[39m\n\u001B[32m      5\u001B[39m FEATHER_PATH = OUTPUT_DIR / \u001B[33m\"\u001B[39m\u001B[33mbtcusdt_1m_20240511‑20250511.feather\u001B[39m\u001B[33m\"\u001B[39m\n\u001B[32m----> \u001B[39m\u001B[32m7\u001B[39m \u001B[43mdf\u001B[49m.to_parquet(PARQUET_PATH, engine=\u001B[33m\"\u001B[39m\u001B[33mpyarrow\u001B[39m\u001B[33m\"\u001B[39m, compression=\u001B[33m\"\u001B[39m\u001B[33mzstd\u001B[39m\u001B[33m\"\u001B[39m)\n\u001B[32m      8\u001B[39m \u001B[38;5;28mprint\u001B[39m(\u001B[33mf\u001B[39m\u001B[33m\"\u001B[39m\u001B[33mParquet saved → \u001B[39m\u001B[38;5;132;01m{\u001B[39;00mPARQUET_PATH\u001B[38;5;132;01m}\u001B[39;00m\u001B[33m\"\u001B[39m)\n\u001B[32m     10\u001B[39m df.reset_index().to_feather(FEATHER_PATH)\n",
      "\u001B[31mNameError\u001B[39m: name 'df' is not defined"
     ]
    }
   ],
   "execution_count": 27
  },
  {
   "metadata": {
    "ExecuteTime": {
     "end_time": "2025-05-18T15:03:39.912754Z",
     "start_time": "2025-05-18T15:03:39.894293Z"
    }
   },
   "cell_type": "code",
   "source": [
    "# STEP 5.1\n",
    "def rolling_winsorize(series: pd.Series,\n",
    "                      window: int = 10_080,\n",
    "                      sigma: float = 3.0) -> pd.Series:\n",
    "    roll_mean = series.rolling(window, min_periods=1).mean()\n",
    "    roll_std  = series.rolling(window, min_periods=1).std(ddof=0)\n",
    "    lower     = roll_mean - sigma * roll_std\n",
    "    upper     = roll_mean + sigma * roll_std\n",
    "    return series.clip(lower, upper)\n",
    "\n",
    "df['Volume_Clipped'] = rolling_winsorize(df['Volume'])\n",
    "df['LogRet_1m_raw']  = np.log(df['Close'] / df['Close'].shift(1))\n",
    "df['LogRet_1m']      = rolling_winsorize(df['LogRet_1m_raw'])\n",
    "\n",
    "df.drop(columns=['LogRet_1m_raw'], inplace=True)\n",
    "\n"
   ],
   "id": "26d74cb730fe9224",
   "outputs": [
    {
     "ename": "NameError",
     "evalue": "name 'df' is not defined",
     "output_type": "error",
     "traceback": [
      "\u001B[31m---------------------------------------------------------------------------\u001B[39m",
      "\u001B[31mNameError\u001B[39m                                 Traceback (most recent call last)",
      "\u001B[36mCell\u001B[39m\u001B[36m \u001B[39m\u001B[32mIn[28]\u001B[39m\u001B[32m, line 11\u001B[39m\n\u001B[32m      8\u001B[39m     upper     = roll_mean + sigma * roll_std\n\u001B[32m      9\u001B[39m     \u001B[38;5;28;01mreturn\u001B[39;00m series.clip(lower, upper)\n\u001B[32m---> \u001B[39m\u001B[32m11\u001B[39m df[\u001B[33m'\u001B[39m\u001B[33mVolume_Clipped\u001B[39m\u001B[33m'\u001B[39m] = rolling_winsorize(\u001B[43mdf\u001B[49m[\u001B[33m'\u001B[39m\u001B[33mVolume\u001B[39m\u001B[33m'\u001B[39m])\n\u001B[32m     12\u001B[39m df[\u001B[33m'\u001B[39m\u001B[33mLogRet_1m_raw\u001B[39m\u001B[33m'\u001B[39m]  = np.log(df[\u001B[33m'\u001B[39m\u001B[33mClose\u001B[39m\u001B[33m'\u001B[39m] / df[\u001B[33m'\u001B[39m\u001B[33mClose\u001B[39m\u001B[33m'\u001B[39m].shift(\u001B[32m1\u001B[39m))\n\u001B[32m     13\u001B[39m df[\u001B[33m'\u001B[39m\u001B[33mLogRet_1m\u001B[39m\u001B[33m'\u001B[39m]      = rolling_winsorize(df[\u001B[33m'\u001B[39m\u001B[33mLogRet_1m_raw\u001B[39m\u001B[33m'\u001B[39m])\n",
      "\u001B[31mNameError\u001B[39m: name 'df' is not defined"
     ]
    }
   ],
   "execution_count": 28
  }
 ],
 "metadata": {
  "kernelspec": {
   "display_name": "Python 3 (ipykernel)",
   "language": "python",
   "name": "python3"
  },
  "language_info": {
   "codemirror_mode": {
    "name": "ipython",
    "version": 3
   },
   "file_extension": ".py",
   "mimetype": "text/x-python",
   "name": "python",
   "nbconvert_exporter": "python",
   "pygments_lexer": "ipython3",
   "version": "3.11.0"
  }
 },
 "nbformat": 4,
 "nbformat_minor": 5
}
