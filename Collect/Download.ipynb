{
 "cells": [
  {
   "metadata": {
    "ExecuteTime": {
     "end_time": "2025-05-11T21:00:43.214488Z",
     "start_time": "2025-05-11T21:00:43.209638Z"
    }
   },
   "cell_type": "code",
   "source": [
    "import pandas as pd\n",
    "from datetime import datetime, timezone\n",
    "import json, os, time\n",
    "from binance.client import Client\n",
    "from binance.exceptions import BinanceAPIException, BinanceRequestException"
   ],
   "id": "b9ccce1e2a39e65a",
   "outputs": [],
   "execution_count": 19
  },
  {
   "metadata": {
    "ExecuteTime": {
     "end_time": "2025-05-11T21:00:43.234111Z",
     "start_time": "2025-05-11T21:00:43.231915Z"
    }
   },
   "cell_type": "code",
   "source": [
    "# Data calculus\n",
    "from datetime import datetime, timedelta, timezone\n",
    "from dateutil.relativedelta import relativedelta\n",
    "import math"
   ],
   "id": "f6886cd79ccc006f",
   "outputs": [],
   "execution_count": 20
  },
  {
   "metadata": {
    "ExecuteTime": {
     "end_time": "2025-05-11T21:00:43.249378Z",
     "start_time": "2025-05-11T21:00:43.246862Z"
    }
   },
   "cell_type": "code",
   "source": [
    "# Data downloading chanks to ram\n",
    "import json, time, pathlib\n",
    "from typing import List"
   ],
   "id": "c6e1972c5973052c",
   "outputs": [],
   "execution_count": 21
  },
  {
   "metadata": {
    "ExecuteTime": {
     "end_time": "2025-05-11T21:00:43.271411Z",
     "start_time": "2025-05-11T21:00:43.260427Z"
    }
   },
   "cell_type": "code",
   "source": [
    "# Downloading chanks to file\n",
    "import pathlib, pandas as pd, sys"
   ],
   "id": "22e91d233f2afb8d",
   "outputs": [],
   "execution_count": 22
  },
  {
   "metadata": {
    "ExecuteTime": {
     "end_time": "2025-05-11T21:00:43.298324Z",
     "start_time": "2025-05-11T21:00:43.294201Z"
    }
   },
   "cell_type": "code",
   "source": "%run ./Binance_keys.ipynb",
   "id": "3eee2c1596066e63",
   "outputs": [],
   "execution_count": 23
  },
  {
   "metadata": {
    "ExecuteTime": {
     "end_time": "2025-05-11T21:00:43.635871Z",
     "start_time": "2025-05-11T21:00:43.307582Z"
    }
   },
   "cell_type": "code",
   "source": [
    "client = Client(\n",
    "    api_key=api_key,\n",
    "    api_secret=api_secret,\n",
    "    tld='com',\n",
    "    testnet=False,\n",
    ")\n",
    "client.API_URL = client.API_URL.replace(\"api.\", \"api.\")"
   ],
   "id": "c3b4ed07130283c",
   "outputs": [],
   "execution_count": 24
  },
  {
   "metadata": {
    "ExecuteTime": {
     "end_time": "2025-05-11T21:00:43.654956Z",
     "start_time": "2025-05-11T21:00:43.650494Z"
    }
   },
   "cell_type": "code",
   "source": [
    "def test_binance_connection(binance_client: Client) -> None:\n",
    "    try:\n",
    "        latency = binance_client.ping()\n",
    "        acc_info = binance_client.get_account()\n",
    "        print(\"✓ Ping OK, server reachable.\")\n",
    "        print(f\"✓ Account type: {acc_info['accountType']}, \"\n",
    "              f\"makerCommission: {acc_info['makerCommission']}\")\n",
    "    except (BinanceAPIException, BinanceRequestException) as e:\n",
    "        print(\"Binance connection failed:\", e)\n",
    "        raise"
   ],
   "id": "d46f788027d6f777",
   "outputs": [],
   "execution_count": 25
  },
  {
   "metadata": {
    "ExecuteTime": {
     "end_time": "2025-05-11T21:00:44.179425Z",
     "start_time": "2025-05-11T21:00:43.672132Z"
    }
   },
   "cell_type": "code",
   "source": "test_binance_connection(client)",
   "id": "91f2e1e56672e259",
   "outputs": [
    {
     "name": "stdout",
     "output_type": "stream",
     "text": [
      "✓ Ping OK, server reachable.\n",
      "✓ Account type: SPOT, makerCommission: 10\n"
     ]
    }
   ],
   "execution_count": 26
  },
  {
   "metadata": {
    "ExecuteTime": {
     "end_time": "2025-05-11T21:00:44.206640Z",
     "start_time": "2025-05-11T21:00:44.201012Z"
    }
   },
   "cell_type": "code",
   "source": [
    "def generate_minute_windows(months: int = 12,\n",
    "                            interval_minutes: int = 1,\n",
    "                            limit: int = 1000):\n",
    "\n",
    "    end_dt   = datetime.now(timezone.utc).replace(second=0, microsecond=0)\n",
    "    start_dt = end_dt - relativedelta(months=months)\n",
    "\n",
    "    total_minutes = int((end_dt - start_dt).total_seconds() / 60)\n",
    "    step          = limit * interval_minutes                 # 1000\n",
    "    n_windows     = math.ceil(total_minutes / step)\n",
    "\n",
    "    windows_dt = []\n",
    "    cur_start  = start_dt\n",
    "    for _ in range(n_windows):\n",
    "        cur_end = min(cur_start + timedelta(minutes=step-1), end_dt)\n",
    "        windows_dt.append((cur_start, cur_end))\n",
    "        cur_start = cur_end + timedelta(minutes=1)\n",
    "\n",
    "    to_ms = lambda dt: int(dt.timestamp() * 1000)\n",
    "    windows_ms = [(to_ms(s), to_ms(e)) for s, e in windows_dt]\n",
    "\n",
    "    print(f\"Generated {len(windows_dt)} windows \"\n",
    "          f\"({total_minutes} min total, {step}‑min chunks).\")\n",
    "    print(\"First w:\", windows_dt[0])\n",
    "    print(\"Last  w :\", windows_dt[-1])\n",
    "    return windows_dt, windows_ms\n",
    "\n",
    "windows_dt, windows_ms = generate_minute_windows()\n"
   ],
   "id": "bf11a8cdbb7b0d23",
   "outputs": [
    {
     "name": "stdout",
     "output_type": "stream",
     "text": [
      "Generated 526 windows (525600 minutes total, 1000‑min chunks).\n",
      "First window : (datetime.datetime(2024, 5, 11, 21, 0, tzinfo=datetime.timezone.utc), datetime.datetime(2024, 5, 12, 13, 39, tzinfo=datetime.timezone.utc))\n",
      "Last  window : (datetime.datetime(2025, 5, 11, 11, 0, tzinfo=datetime.timezone.utc), datetime.datetime(2025, 5, 11, 21, 0, tzinfo=datetime.timezone.utc))\n"
     ]
    }
   ],
   "execution_count": 27
  },
  {
   "metadata": {
    "ExecuteTime": {
     "end_time": "2025-05-11T21:00:44.243851Z",
     "start_time": "2025-05-11T21:00:44.240376Z"
    }
   },
   "cell_type": "code",
   "source": [
    "CHECKPOINT_PATH = pathlib.Path(\"data_final/checkpoint.json\")\n",
    "SYMBOL          = \"BTCUSDT\"\n",
    "INTERVAL        = Client.KLINE_INTERVAL_1MINUTE\n",
    "MAX_RETRIES     = 5          # за окно\n",
    "SLEEP_BETWEEN   = 0.06       # 16req/сек"
   ],
   "id": "c33bb9aa20a81ad",
   "outputs": [],
   "execution_count": 28
  },
  {
   "metadata": {
    "ExecuteTime": {
     "end_time": "2025-05-11T21:00:44.259366Z",
     "start_time": "2025-05-11T21:00:44.256467Z"
    }
   },
   "cell_type": "code",
   "source": [
    "def load_checkpoint() -> int:\n",
    "    if CHECKPOINT_PATH.exists():\n",
    "        with open(CHECKPOINT_PATH) as f:\n",
    "            data = json.load(f)\n",
    "            return data.get(\"last_idx\", -1)\n",
    "    return -1"
   ],
   "id": "a71fa0dd6dfcc552",
   "outputs": [],
   "execution_count": 29
  },
  {
   "metadata": {
    "ExecuteTime": {
     "end_time": "2025-05-11T21:00:44.271867Z",
     "start_time": "2025-05-11T21:00:44.269050Z"
    }
   },
   "cell_type": "code",
   "source": [
    "def save_checkpoint(idx: int) -> None:\n",
    "    with open(CHECKPOINT_PATH, \"w\") as f:\n",
    "        json.dump({\"last_idx\": idx}, f)"
   ],
   "id": "149a296d1d50bb30",
   "outputs": [],
   "execution_count": 30
  },
  {
   "metadata": {
    "ExecuteTime": {
     "end_time": "2025-05-11T21:00:44.296735Z",
     "start_time": "2025-05-11T21:00:44.293645Z"
    }
   },
   "cell_type": "code",
   "source": [
    "def fetch_window(symbol: str, start_ms: int, end_ms: int,\n",
    "                 client: Client, max_retries: int = MAX_RETRIES):\n",
    "    attempt = 0\n",
    "    while attempt <= max_retries:\n",
    "        try:\n",
    "            raw = client.get_historical_klines(\n",
    "                symbol=symbol,\n",
    "                interval=INTERVAL,\n",
    "                start_str=start_ms,\n",
    "                end_str=end_ms,\n",
    "                limit=1000,\n",
    "            )\n",
    "            return raw\n",
    "        except Exception as e:\n",
    "            wait = 0.5 * (2 ** attempt)\n",
    "            print(f\"[{symbol}] Window fetch fail (attempt {attempt}): {e}. \"\n",
    "                  f\"Retry in {wait:.1f}s …\")\n",
    "            time.sleep(wait)\n",
    "            attempt += 1\n",
    "    raise RuntimeError(f\"Exceeded {max_retries} retries for window\")"
   ],
   "id": "2b2f901c089bf754",
   "outputs": [],
   "execution_count": 31
  },
  {
   "metadata": {
    "ExecuteTime": {
     "end_time": "2025-05-11T21:28:18.806587Z",
     "start_time": "2025-05-11T21:28:18.802093Z"
    }
   },
   "cell_type": "code",
   "source": [
    "def convert_to_dataframe(raw_data: List[list]) -> pd.DataFrame:\n",
    "    cols = ['Open Time', 'Open', 'High', 'Low', 'Close', 'Volume',\n",
    "            'Close Time', 'Quote Asset Volume', 'Trades',\n",
    "            'Taker Buy Base', 'Taker Buy Quote', 'Ignore']\n",
    "\n",
    "    df = pd.DataFrame(raw_data, columns=cols)\n",
    "    df = df[['Open Time', 'Open', 'High', 'Low', 'Close', 'Volume']]\n",
    "    df['Open Time'] = pd.to_datetime(df['Open Time'], unit='ms', utc=True)\n",
    "    df = df.astype({'Open':'float', 'High':'float', 'Low':'float',\n",
    "                    'Close':'float', 'Volume':'float'})\n",
    "    df.set_index('Open Time', inplace=True)\n",
    "    return df"
   ],
   "id": "42dee126deaf91a8",
   "outputs": [],
   "execution_count": 38
  },
  {
   "metadata": {
    "ExecuteTime": {
     "end_time": "2025-05-11T21:28:38.178804Z",
     "start_time": "2025-05-11T21:28:37.175428Z"
    }
   },
   "cell_type": "code",
   "source": [
    "last_done = load_checkpoint()\n",
    "print(f\"Checkpoint: last completed window idx = {last_done}\")\n",
    "\n",
    "chunks = []\n",
    "\n",
    "for idx, (start_ms, end_ms) in enumerate(windows_ms):\n",
    "    if idx <= last_done:\n",
    "        continue\n",
    "    time.sleep(SLEEP_BETWEEN)\n",
    "\n",
    "    raw = fetch_window(SYMBOL, start_ms, end_ms, client)\n",
    "    df_chunk = convert_to_dataframe(raw)\n",
    "    chunks.append(df_chunk)\n",
    "\n",
    "    save_checkpoint(idx)\n",
    "    print(f\"✓ Window {idx}/{len(windows_ms)-1} \"\n",
    "          f\"({len(df_chunk)} rows) downloaded.\")\n",
    "\n",
    "print(\"Download loop finished.\")"
   ],
   "id": "344c46994e777610",
   "outputs": [
    {
     "name": "stdout",
     "output_type": "stream",
     "text": [
      "Checkpoint: last completed window idx = -1\n"
     ]
    },
    {
     "ename": "FileNotFoundError",
     "evalue": "[Errno 2] No such file or directory: 'Save_data\\\\checkpoint.json'",
     "output_type": "error",
     "traceback": [
      "\u001B[31m---------------------------------------------------------------------------\u001B[39m",
      "\u001B[31mFileNotFoundError\u001B[39m                         Traceback (most recent call last)",
      "\u001B[36mCell\u001B[39m\u001B[36m \u001B[39m\u001B[32mIn[39]\u001B[39m\u001B[32m, line 15\u001B[39m\n\u001B[32m     12\u001B[39m     df_chunk = convert_to_dataframe(raw)\n\u001B[32m     13\u001B[39m     chunks.append(df_chunk)\n\u001B[32m---> \u001B[39m\u001B[32m15\u001B[39m     \u001B[43msave_checkpoint\u001B[49m\u001B[43m(\u001B[49m\u001B[43midx\u001B[49m\u001B[43m)\u001B[49m\n\u001B[32m     16\u001B[39m     \u001B[38;5;28mprint\u001B[39m(\u001B[33mf\u001B[39m\u001B[33m\"\u001B[39m\u001B[33m✓ Window \u001B[39m\u001B[38;5;132;01m{\u001B[39;00midx\u001B[38;5;132;01m}\u001B[39;00m\u001B[33m/\u001B[39m\u001B[38;5;132;01m{\u001B[39;00m\u001B[38;5;28mlen\u001B[39m(windows_ms)-\u001B[32m1\u001B[39m\u001B[38;5;132;01m}\u001B[39;00m\u001B[33m \u001B[39m\u001B[33m\"\u001B[39m\n\u001B[32m     17\u001B[39m           \u001B[33mf\u001B[39m\u001B[33m\"\u001B[39m\u001B[33m(\u001B[39m\u001B[38;5;132;01m{\u001B[39;00m\u001B[38;5;28mlen\u001B[39m(df_chunk)\u001B[38;5;132;01m}\u001B[39;00m\u001B[33m rows) downloaded.\u001B[39m\u001B[33m\"\u001B[39m)\n\u001B[32m     19\u001B[39m \u001B[38;5;28mprint\u001B[39m(\u001B[33m\"\u001B[39m\u001B[33mDownload loop finished.\u001B[39m\u001B[33m\"\u001B[39m)\n",
      "\u001B[36mCell\u001B[39m\u001B[36m \u001B[39m\u001B[32mIn[30]\u001B[39m\u001B[32m, line 2\u001B[39m, in \u001B[36msave_checkpoint\u001B[39m\u001B[34m(idx)\u001B[39m\n\u001B[32m      1\u001B[39m \u001B[38;5;28;01mdef\u001B[39;00m\u001B[38;5;250m \u001B[39m\u001B[34msave_checkpoint\u001B[39m(idx: \u001B[38;5;28mint\u001B[39m) -> \u001B[38;5;28;01mNone\u001B[39;00m:\n\u001B[32m----> \u001B[39m\u001B[32m2\u001B[39m     \u001B[38;5;28;01mwith\u001B[39;00m \u001B[38;5;28;43mopen\u001B[39;49m\u001B[43m(\u001B[49m\u001B[43mCHECKPOINT_PATH\u001B[49m\u001B[43m,\u001B[49m\u001B[43m \u001B[49m\u001B[33;43m\"\u001B[39;49m\u001B[33;43mw\u001B[39;49m\u001B[33;43m\"\u001B[39;49m\u001B[43m)\u001B[49m \u001B[38;5;28;01mas\u001B[39;00m f:\n\u001B[32m      3\u001B[39m         json.dump({\u001B[33m\"\u001B[39m\u001B[33mlast_idx\u001B[39m\u001B[33m\"\u001B[39m: idx}, f)\n",
      "\u001B[36mFile \u001B[39m\u001B[32mW:\\Jupiter\\Thesis\\.venv\\Lib\\site-packages\\IPython\\core\\interactiveshell.py:325\u001B[39m, in \u001B[36m_modified_open\u001B[39m\u001B[34m(file, *args, **kwargs)\u001B[39m\n\u001B[32m    318\u001B[39m \u001B[38;5;28;01mif\u001B[39;00m file \u001B[38;5;129;01min\u001B[39;00m {\u001B[32m0\u001B[39m, \u001B[32m1\u001B[39m, \u001B[32m2\u001B[39m}:\n\u001B[32m    319\u001B[39m     \u001B[38;5;28;01mraise\u001B[39;00m \u001B[38;5;167;01mValueError\u001B[39;00m(\n\u001B[32m    320\u001B[39m         \u001B[33mf\u001B[39m\u001B[33m\"\u001B[39m\u001B[33mIPython won\u001B[39m\u001B[33m'\u001B[39m\u001B[33mt let you open fd=\u001B[39m\u001B[38;5;132;01m{\u001B[39;00mfile\u001B[38;5;132;01m}\u001B[39;00m\u001B[33m by default \u001B[39m\u001B[33m\"\u001B[39m\n\u001B[32m    321\u001B[39m         \u001B[33m\"\u001B[39m\u001B[33mas it is likely to crash IPython. If you know what you are doing, \u001B[39m\u001B[33m\"\u001B[39m\n\u001B[32m    322\u001B[39m         \u001B[33m\"\u001B[39m\u001B[33myou can use builtins\u001B[39m\u001B[33m'\u001B[39m\u001B[33m open.\u001B[39m\u001B[33m\"\u001B[39m\n\u001B[32m    323\u001B[39m     )\n\u001B[32m--> \u001B[39m\u001B[32m325\u001B[39m \u001B[38;5;28;01mreturn\u001B[39;00m \u001B[43mio_open\u001B[49m\u001B[43m(\u001B[49m\u001B[43mfile\u001B[49m\u001B[43m,\u001B[49m\u001B[43m \u001B[49m\u001B[43m*\u001B[49m\u001B[43margs\u001B[49m\u001B[43m,\u001B[49m\u001B[43m \u001B[49m\u001B[43m*\u001B[49m\u001B[43m*\u001B[49m\u001B[43mkwargs\u001B[49m\u001B[43m)\u001B[49m\n",
      "\u001B[31mFileNotFoundError\u001B[39m: [Errno 2] No such file or directory: 'Save_data\\\\checkpoint.json'"
     ]
    }
   ],
   "execution_count": 39
  },
  {
   "metadata": {
    "ExecuteTime": {
     "end_time": "2025-05-11T21:06:10.214315Z",
     "start_time": "2025-05-11T21:06:10.211991Z"
    }
   },
   "cell_type": "code",
   "source": [
    "DATA_DIR = pathlib.Path(\"data_raw\")\n",
    "\n",
    "def load_all_chunks():\n",
    "    if \"chunks\" in globals() and isinstance(chunks, list) and len(chunks):\n",
    "        print(\"Usе in‑memory chunk\")\n",
    "        return chunks\n",
    "    files = sorted(DATA_DIR.glob(\"btc1m_win*.parquet\"))\n",
    "    if not files:\n",
    "        sys.exit(\"No chunks found\")\n",
    "    print(f\"Loading {len(files)} parquet chunks from {DATA_DIR}\")\n",
    "    return [pd.read_parquet(f) for f in files]"
   ],
   "id": "833a19b246c30789",
   "outputs": [],
   "execution_count": 34
  },
  {
   "metadata": {
    "ExecuteTime": {
     "end_time": "2025-05-11T21:06:10.315112Z",
     "start_time": "2025-05-11T21:06:10.248686Z"
    }
   },
   "cell_type": "code",
   "source": [
    "all_chunks = load_all_chunks()\n",
    "df = (pd.concat(all_chunks)\n",
    "        .loc[~pd.concat(all_chunks).index.duplicated(keep='first')]\n",
    "        .sort_index())\n",
    "\n",
    "full_idx = pd.date_range(df.index.min(), df.index.max(), freq=\"1min\", tz=\"UTC\")\n",
    "missing = full_idx.difference(df.index)\n",
    "\n",
    "mem_mb = df.memory_usage(deep=True).sum() / 1024**2\n",
    "\n",
    "print(\"Result: \")\n",
    "print(\"─────────────────────────\")\n",
    "print(f\"Rows            : {len(df):,}\")\n",
    "print(f\"Date range      : {df.index.min()} → {df.index.max()}\")\n",
    "print(f\"Missing minutes : {len(missing)}\")\n",
    "print(f\"Memory usage    : {mem_mb:.1f} MB\")\n",
    "print(\"─────────────────────────\")\n",
    "\n",
    "if len(missing):\n",
    "    print(\"First 5 missing:\", missing[:5].astype(str))\n"
   ],
   "id": "9010c687a802d3e",
   "outputs": [
    {
     "name": "stdout",
     "output_type": "stream",
     "text": [
      "Using in‑memory chunks …\n",
      "──────── SUMMARY ────────\n",
      "Rows            : 525,601\n",
      "Date range      : 2024-05-11 21:00:00+00:00 → 2025-05-11 21:00:00+00:00\n",
      "Missing minutes : 0\n",
      "Memory usage    : 24.1 MB\n",
      "─────────────────────────\n"
     ]
    }
   ],
   "execution_count": 35
  },
  {
   "metadata": {
    "ExecuteTime": {
     "end_time": "2025-05-11T21:06:15.845403Z",
     "start_time": "2025-05-11T21:06:15.674107Z"
    }
   },
   "cell_type": "code",
   "source": [
    "OUTPUT_DIR = pathlib.Path(\"data_final\")\n",
    "OUTPUT_DIR.mkdir(exist_ok=True)\n",
    "\n",
    "PARQUET_PATH = OUTPUT_DIR / \"btcusdt_1m_20240511‑20250511.parquet\"\n",
    "FEATHER_PATH = OUTPUT_DIR / \"btcusdt_1m_20240511‑20250511.feather\"\n",
    "\n",
    "df.to_parquet(PARQUET_PATH, engine=\"pyarrow\", compression=\"zstd\")\n",
    "print(f\"Parquet saved → {PARQUET_PATH}\")\n",
    "\n",
    "df.reset_index().to_feather(FEATHER_PATH)\n",
    "print(f\"Feather saved → {FEATHER_PATH}\")\n",
    "\n",
    "df_chk = pd.read_parquet(PARQUET_PATH)\n",
    "assert len(df_chk) == len(df), \"Row‑count mismatch\"\n",
    "print(\"OK, rows:\", len(df_chk))\n"
   ],
   "id": "42ed0543f34e96d6",
   "outputs": [
    {
     "name": "stdout",
     "output_type": "stream",
     "text": [
      "Parquet saved → data_final\\btcusdt_1m_20240511‑20250511.parquet\n",
      "Feather saved → data_final\\btcusdt_1m_20240511‑20250511.feather\n",
      "✓ File round‑trip OK – rows: 525601\n"
     ]
    }
   ],
   "execution_count": 37
  }
 ],
 "metadata": {
  "kernelspec": {
   "display_name": "Python 3 (ipykernel)",
   "language": "python",
   "name": "python3"
  },
  "language_info": {
   "codemirror_mode": {
    "name": "ipython",
    "version": 3
   },
   "file_extension": ".py",
   "mimetype": "text/x-python",
   "name": "python",
   "nbconvert_exporter": "python",
   "pygments_lexer": "ipython3",
   "version": "3.11.0"
  }
 },
 "nbformat": 4,
 "nbformat_minor": 5
}
